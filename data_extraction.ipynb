{
 "cells": [
  {
   "cell_type": "code",
   "execution_count": 1,
   "id": "b6a62748-d530-4af6-a371-7eb0ef5c39c1",
   "metadata": {},
   "outputs": [],
   "source": [
    "\n",
    "from google_play_scraper import reviews, Sort\n",
    "import pandas as pd\n",
    "from tqdm import tqdm\n",
    "import time\n",
    "import matplotlib.pyplot as plt\n",
    "import seaborn as sns"
   ]
  },
  {
   "cell_type": "code",
   "execution_count": 2,
   "id": "5fdb5b3d-b85b-44e2-87a1-a61f9a207fb2",
   "metadata": {},
   "outputs": [],
   "source": [
    "# 定义智能抓取函数\n",
    "# 创建函数，参数：package_name: 要抓取的应用包名.\n",
    "# target_per_rating: 每个评分等级的目标抓取数量（默认5000条）\n",
    "# total_desired: 期望的总评论数（默认20000条）\n",
    "def smart_review_scraper(package_name, target_per_rating=5000, total_desired=20000):\n",
    "    all_reviews = []\n",
    "    error_count = 0\n",
    "    max_errors = 5\n",
    "\n",
    "    # 优先尝试抓取低分评论，从最有帮助的排序开始，这通常包含更多历史数据\n",
    "    for score in [1, 2, 3, 4, 5]:\n",
    "        print(f\"正在抓取 {score} 星评论...\")\n",
    "        token = None\n",
    "        score_reviews = []\n",
    "        \n",
    "        with tqdm(total=target_per_rating, desc=f'{score}星评论') as pbar:\n",
    "            while len(score_reviews) < target_per_rating and error_count < max_errors:\n",
    "                try:\n",
    "                    # 对低分评论使用 MOST_RELEVANT 排序，这有助于获取经典的低分评价\n",
    "                    sort_method = Sort.MOST_RELEVANT if score <= 3 else Sort.NEWEST\n",
    "                    \n",
    "                    batch, token = reviews(\n",
    "                        package_name,\n",
    "                        lang='en',\n",
    "                        country='us',\n",
    "                        sort=sort_method,\n",
    "                        count=100,\n",
    "                        continuation_token=token\n",
    "                    )\n",
    "                    \n",
    "                    # 按当前目标评分筛选\n",
    "                    if batch and 'score' in batch[0]:\n",
    "                        batch_filtered = [r for r in batch if r.get('score') == score]\n",
    "                        score_reviews.extend(batch_filtered)\n",
    "                        pbar.update(len(batch_filtered))\n",
    "                    else:\n",
    "                        # 如果返回的数据中没有score字段，则全部加入\n",
    "                        score_reviews.extend(batch)\n",
    "                        pbar.update(len(batch))\n",
    "\n",
    "                    if token is None or not batch:\n",
    "                        print(f\"  没有更多 {score} 星评论了。\")\n",
    "                        break\n",
    "\n",
    "                    time.sleep(1)  # 礼貌性等待\n",
    "\n",
    "                except Exception as e:\n",
    "                    error_count += 1\n",
    "                    print(f\"获取 {score} 星评论时出错 (错误 #{error_count}): {e}\")\n",
    "                    time.sleep(5)\n",
    "                    \n",
    "                    if error_count >= max_errors:\n",
    "                        print(\"错误次数过多，停止抓取。\")\n",
    "                        break\n",
    "\n",
    "        all_reviews.extend(score_reviews)\n",
    "        print(f\"已抓取 {len(score_reviews)} 条 {score} 星评论。\")\n",
    "\n",
    "        # 如果总数据量已满足要求，可提前结束\n",
    "        if len(all_reviews) >= total_desired:\n",
    "            print(f\"总评论数已达目标，停止抓取。\")\n",
    "            break\n",
    "\n",
    "    return pd.DataFrame(all_reviews)"
   ]
  },
  {
   "cell_type": "code",
   "execution_count": 3,
   "id": "7840cebb-6932-481e-bf17-8e748428bb2f",
   "metadata": {},
   "outputs": [
    {
     "name": "stdout",
     "output_type": "stream",
     "text": [
      "开始抓取ChatGPT应用评论...\n",
      "正在抓取 1 星评论...\n"
     ]
    },
    {
     "name": "stderr",
     "output_type": "stream",
     "text": [
      "1星评论: 4004it [04:30, 14.80it/s]                                              \n"
     ]
    },
    {
     "name": "stdout",
     "output_type": "stream",
     "text": [
      "已抓取 4004 条 1 星评论。\n",
      "正在抓取 2 星评论...\n"
     ]
    },
    {
     "name": "stderr",
     "output_type": "stream",
     "text": [
      "2星评论: 4009it [34:38,  1.93it/s]                                              \n"
     ]
    },
    {
     "name": "stdout",
     "output_type": "stream",
     "text": [
      "已抓取 4009 条 2 星评论。\n",
      "正在抓取 3 星评论...\n"
     ]
    },
    {
     "name": "stderr",
     "output_type": "stream",
     "text": [
      "3星评论: 4001it [15:05,  4.42it/s]                                              \n"
     ]
    },
    {
     "name": "stdout",
     "output_type": "stream",
     "text": [
      "已抓取 4001 条 3 星评论。\n",
      "正在抓取 4 星评论...\n"
     ]
    },
    {
     "name": "stderr",
     "output_type": "stream",
     "text": [
      "4星评论: 4008it [11:01,  6.06it/s]                                              \n"
     ]
    },
    {
     "name": "stdout",
     "output_type": "stream",
     "text": [
      "已抓取 4008 条 4 星评论。\n",
      "正在抓取 5 星评论...\n"
     ]
    },
    {
     "name": "stderr",
     "output_type": "stream",
     "text": [
      "5星评论: 4011it [01:20, 49.98it/s]                                              "
     ]
    },
    {
     "name": "stdout",
     "output_type": "stream",
     "text": [
      "已抓取 4011 条 5 星评论。\n",
      "总评论数已达目标，停止抓取。\n",
      "抓取完成！\n"
     ]
    },
    {
     "name": "stderr",
     "output_type": "stream",
     "text": [
      "\n"
     ]
    }
   ],
   "source": [
    "# 设置应用包名并执行抓取\n",
    "# ChatGPT在Google Play商店的唯一标识符。\n",
    "app_package = \"com.openai.chatgpt\"\n",
    "\n",
    "# 执行抓取 - 目标是每个评分抓取约4000条，总共约20000条\n",
    "print(\"开始抓取ChatGPT应用评论...\")\n",
    "reviews_df = smart_review_scraper(app_package, target_per_rating=4000, total_desired=20000)\n",
    "print(\"抓取完成！\")"
   ]
  },
  {
   "cell_type": "code",
   "execution_count": 6,
   "id": "4f523001-3217-4161-8d5c-ad44bc587b6c",
   "metadata": {},
   "outputs": [
    {
     "name": "stdout",
     "output_type": "stream",
     "text": [
      "\n",
      "成功抓取 20033 条评论。\n",
      "\n",
      "评分分布:\n",
      "score\n",
      "1    4004\n",
      "2    4009\n",
      "3    4001\n",
      "4    4008\n",
      "5    4011\n",
      "Name: count, dtype: int64\n",
      "\n",
      "数据时间范围: 2023-07-25 08:31:59 到 2025-10-16 13:19:26\n",
      "\n",
      "数据已保存到 'chatgpt_reviews_enhanced.csv'\n"
     ]
    }
   ],
   "source": [
    "# 检查并保存数据\n",
    "if not reviews_df.empty:\n",
    "    # 确保数据包含版本信息\n",
    "    if 'reviewCreatedVersion' not in reviews_df.columns:\n",
    "        print(\"警告: 部分评论可能缺少 'reviewCreatedVersion' 字段。\")\n",
    "    \n",
    "    # 显示基本统计信息\n",
    "    print(f\"\\n成功抓取 {len(reviews_df)} 条评论。\")\n",
    "    print(\"\\n评分分布:\")\n",
    "    print(reviews_df['score'].value_counts().sort_index())\n",
    "    \n",
    "    # 检查时间范围\n",
    "    reviews_df['at'] = pd.to_datetime(reviews_df['at'])\n",
    "    print(f\"\\n数据时间范围: {reviews_df['at'].min()} 到 {reviews_df['at'].max()}\")\n",
    "    \n",
    "    # 保存到CSV文件\n",
    "    csv_filename = 'chatgpt_reviews_enhanced.csv'\n",
    "    reviews_df.to_csv(csv_filename, index=False)\n",
    "    print(f\"\\n数据已保存到 '{csv_filename}'\")\n",
    "    \n",
    "  \n",
    "else:\n",
    "    print(\"未获取到任何数据。\")"
   ]
  },
  {
   "cell_type": "code",
   "execution_count": null,
   "id": "34a499dd-ce4d-4816-b8fa-bb0691972126",
   "metadata": {},
   "outputs": [],
   "source": []
  }
 ],
 "metadata": {
  "kernelspec": {
   "display_name": "Python 3 (ipykernel)",
   "language": "python",
   "name": "python3"
  },
  "language_info": {
   "codemirror_mode": {
    "name": "ipython",
    "version": 3
   },
   "file_extension": ".py",
   "mimetype": "text/x-python",
   "name": "python",
   "nbconvert_exporter": "python",
   "pygments_lexer": "ipython3",
   "version": "3.13.7"
  }
 },
 "nbformat": 4,
 "nbformat_minor": 5
}
