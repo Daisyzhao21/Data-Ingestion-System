{
  "cells": [
    {
      "cell_type": "markdown",
      "metadata": {
        "id": "view-in-github",
        "colab_type": "text"
      },
      "source": [
        "<a href=\"https://colab.research.google.com/github/Daisyzhao21/Data-Ingestion-System/blob/main/GooglePlayStoreReviews_ChatGPT_Data_Collection.ipynb\" target=\"_parent\"><img src=\"https://colab.research.google.com/assets/colab-badge.svg\" alt=\"Open In Colab\"/></a>"
      ]
    },
    {
      "cell_type": "markdown",
      "id": "1f81e0a4-a942-4060-9f95-c32e48fa00c3",
      "metadata": {
        "id": "1f81e0a4-a942-4060-9f95-c32e48fa00c3"
      },
      "source": [
        "# Data Ingestion System\n",
        "\n",
        "\n",
        "## 1.Data Collection:\n",
        "Use the google_play_scraper package to collect reviews for the ChatGPT app.\n",
        "\n",
        "#### 2.EDA:\n",
        "Perform exploratory and statistical analysis on the sample dataset.\n",
        "\n",
        "#### 3.Evaluation:\n",
        "Comment quality and richness (length, depth, relevance)\n",
        "Language consistency (ideally mostly English)\n",
        "Supporting metadata availability (timestamps, ratings, IDs, etc.)\n",
        "Rating skewness (balanced vs. heavily biased distributions)\n",
        "Review volume and update speed (is it refreshed frequently enough?)"
      ]
    },
    {
      "cell_type": "markdown",
      "source": [
        " Install the Required Package"
      ],
      "metadata": {
        "id": "I2kWAWWYcIBF"
      },
      "id": "I2kWAWWYcIBF"
    },
    {
      "cell_type": "code",
      "execution_count": 1,
      "id": "e4e83895-4461-4016-9797-dd61e4fb122c",
      "metadata": {
        "colab": {
          "base_uri": "https://localhost:8080/"
        },
        "id": "e4e83895-4461-4016-9797-dd61e4fb122c",
        "outputId": "424d371d-e393-43b0-8af7-f5789ec809e5"
      },
      "outputs": [
        {
          "output_type": "stream",
          "name": "stdout",
          "text": [
            "Collecting google-play-scraper\n",
            "  Downloading google_play_scraper-1.2.7-py3-none-any.whl.metadata (50 kB)\n",
            "\u001b[?25l     \u001b[90m━━━━━━━━━━━━━━━━━━━━━━━━━━━━━━━━━━━━━━━━\u001b[0m \u001b[32m0.0/50.2 kB\u001b[0m \u001b[31m?\u001b[0m eta \u001b[36m-:--:--\u001b[0m\r\u001b[2K     \u001b[90m━━━━━━━━━━━━━━━━━━━━━━━━━━━━━━━━━━━━━━━━\u001b[0m \u001b[32m50.2/50.2 kB\u001b[0m \u001b[31m1.7 MB/s\u001b[0m eta \u001b[36m0:00:00\u001b[0m\n",
            "\u001b[?25hDownloading google_play_scraper-1.2.7-py3-none-any.whl (28 kB)\n",
            "Installing collected packages: google-play-scraper\n",
            "Successfully installed google-play-scraper-1.2.7\n"
          ]
        }
      ],
      "source": [
        "pip install google-play-scraper"
      ]
    },
    {
      "cell_type": "code",
      "execution_count": 2,
      "id": "caf835a9-274c-42f3-8080-556b391c5481",
      "metadata": {
        "colab": {
          "base_uri": "https://localhost:8080/"
        },
        "id": "caf835a9-274c-42f3-8080-556b391c5481",
        "outputId": "9f203679-87db-4b9d-8c03-5099638bfc3f"
      },
      "outputs": [
        {
          "output_type": "stream",
          "name": "stdout",
          "text": [
            "Requirement already satisfied: matplotlib in /usr/local/lib/python3.12/dist-packages (3.10.0)\n",
            "Requirement already satisfied: seaborn in /usr/local/lib/python3.12/dist-packages (0.13.2)\n",
            "Requirement already satisfied: contourpy>=1.0.1 in /usr/local/lib/python3.12/dist-packages (from matplotlib) (1.3.3)\n",
            "Requirement already satisfied: cycler>=0.10 in /usr/local/lib/python3.12/dist-packages (from matplotlib) (0.12.1)\n",
            "Requirement already satisfied: fonttools>=4.22.0 in /usr/local/lib/python3.12/dist-packages (from matplotlib) (4.59.2)\n",
            "Requirement already satisfied: kiwisolver>=1.3.1 in /usr/local/lib/python3.12/dist-packages (from matplotlib) (1.4.9)\n",
            "Requirement already satisfied: numpy>=1.23 in /usr/local/lib/python3.12/dist-packages (from matplotlib) (2.0.2)\n",
            "Requirement already satisfied: packaging>=20.0 in /usr/local/lib/python3.12/dist-packages (from matplotlib) (25.0)\n",
            "Requirement already satisfied: pillow>=8 in /usr/local/lib/python3.12/dist-packages (from matplotlib) (11.3.0)\n",
            "Requirement already satisfied: pyparsing>=2.3.1 in /usr/local/lib/python3.12/dist-packages (from matplotlib) (3.2.3)\n",
            "Requirement already satisfied: python-dateutil>=2.7 in /usr/local/lib/python3.12/dist-packages (from matplotlib) (2.9.0.post0)\n",
            "Requirement already satisfied: pandas>=1.2 in /usr/local/lib/python3.12/dist-packages (from seaborn) (2.2.2)\n",
            "Requirement already satisfied: pytz>=2020.1 in /usr/local/lib/python3.12/dist-packages (from pandas>=1.2->seaborn) (2025.2)\n",
            "Requirement already satisfied: tzdata>=2022.7 in /usr/local/lib/python3.12/dist-packages (from pandas>=1.2->seaborn) (2025.2)\n",
            "Requirement already satisfied: six>=1.5 in /usr/local/lib/python3.12/dist-packages (from python-dateutil>=2.7->matplotlib) (1.17.0)\n"
          ]
        }
      ],
      "source": [
        "pip install matplotlib seaborn"
      ]
    },
    {
      "cell_type": "code",
      "source": [
        "pip install tqdm # 用于显示进度条"
      ],
      "metadata": {
        "colab": {
          "base_uri": "https://localhost:8080/"
        },
        "id": "2gRMhPU8gh9O",
        "outputId": "2e0b51cd-dffb-482e-f9fb-9f576cf0b75c"
      },
      "id": "2gRMhPU8gh9O",
      "execution_count": 3,
      "outputs": [
        {
          "output_type": "stream",
          "name": "stdout",
          "text": [
            "Requirement already satisfied: tqdm in /usr/local/lib/python3.12/dist-packages (4.67.1)\n"
          ]
        }
      ]
    },
    {
      "cell_type": "code",
      "source": [
        "from google_play_scraper import app, reviews, Sort # app: 用于获取应用的基本信息, reviews: 用于获取应用的评价, Sort: 枚举类型，用于指定评价的排序方式\n",
        "import pandas as pd\n",
        "import time\n",
        "from tqdm import tqdm # 显示进度条"
      ],
      "metadata": {
        "id": "rMiw5NaZdl-d"
      },
      "id": "rMiw5NaZdl-d",
      "execution_count": 4,
      "outputs": []
    },
    {
      "cell_type": "code",
      "execution_count": 5,
      "id": "f54d9336-d3a4-4250-adb9-28ccdbf20af0",
      "metadata": {
        "colab": {
          "base_uri": "https://localhost:8080/"
        },
        "id": "f54d9336-d3a4-4250-adb9-28ccdbf20af0",
        "outputId": "a4e93600-65e9-4a53-a26e-9d974556a622"
      },
      "outputs": [
        {
          "output_type": "stream",
          "name": "stdout",
          "text": [
            "App Name: ChatGPT\n",
            "Installs: 500,000,000+\n",
            "Score: 4.7592316\n",
            "Number of Reviews: 110340\n",
            "\n"
          ]
        }
      ],
      "source": [
        "# ChatGPT app package name\n",
        "app_package = \"com.openai.chatgpt\" #ChatGPT 官方应用的包名\n",
        "\n",
        "# Get app information first\n",
        "app_info = app(\n",
        "    app_package,\n",
        "    lang='en',  # language\n",
        "    country='us'  # country\n",
        ")\n",
        "\n",
        "print(f\"App Name: {app_info['title']}\")\n",
        "print(f\"Installs: {app_info['installs']}\")\n",
        "print(f\"Score: {app_info['score']}\")\n",
        "print(f\"Number of Reviews: {app_info['reviews']}\\n\")\n",
        "\n"
      ]
    },
    {
      "cell_type": "code",
      "source": [
        "# 设置抓取参数\n",
        "desired_count = 20000  # 希望获取的评论总数\n",
        "batch_size = 100  # 每个批次请求的评论数，Google Play 每次最多返回 100 条\n",
        "sleep_interval = 2  # 每个请求之间的休眠时间（秒），避免请求过于频繁\n",
        "\n",
        "reviews_data = []  # 存储所有评论的列表\n",
        "continuation_token = None  # 用于获取下一页评论的令牌\n",
        "error_count = 0\n",
        "max_errors = 5  # 最大允许错误次数，超过则停止\n"
      ],
      "metadata": {
        "id": "FqtBJa2ziibJ"
      },
      "id": "FqtBJa2ziibJ",
      "execution_count": 6,
      "outputs": []
    },
    {
      "cell_type": "code",
      "source": [
        "# 使用 tqdm 创建进度条（可选）\n",
        "with tqdm(total=desired_count, desc=\"scraping抓取评论\") as pbar:\n",
        "    while len(reviews_data) < desired_count and error_count < max_errors:\n",
        "        try:\n",
        "            # 获取一批评论\n",
        "            batch_result, continuation_token = reviews(\n",
        "                app_package,\n",
        "                lang='en',\n",
        "                country='us',\n",
        "                sort=Sort.NEWEST,  # 按最新排序，确保获取到最新的评论\n",
        "                count=batch_size,\n",
        "                continuation_token=continuation_token  # 用于分页\n",
        "            )\n",
        "\n",
        "            # 将这批评论添加到总列表中\n",
        "            reviews_data.extend(batch_result)\n",
        "\n",
        "            # 更新进度条\n",
        "            pbar.update(len(batch_result))\n",
        "\n",
        "            # 如果没有 continuation_token，或者已获取到足够数据，退出循环\n",
        "            if continuation_token is None or not batch_result:\n",
        "                print(\"No more results.没有更多评论了。\")\n",
        "                break\n",
        "\n",
        "            # 在每个请求之间休眠，减轻服务器压力\n",
        "            time.sleep(sleep_interval)\n",
        "\n",
        "        except Exception as e:\n",
        "            error_count += 1\n",
        "            print(f\"获取评论时出错 (错误 #{error_count}): {e}\")\n",
        "            time.sleep(5)  # 出错时等待更长时间\n",
        "\n",
        "# 检查是否获取到数据\n",
        "if not reviews_data:\n",
        "    print(\"未获取到任何评论数据。请检查应用包名、网络连接或稍后再试。\")\n",
        "else:\n",
        "    print(f\"成功获取了 {len(reviews_data)} 条评论。\")\n",
        "\n",
        "    # 转换为 Pandas DataFrame\n",
        "    reviews_df = pd.DataFrame(reviews_data)\n",
        ""
      ],
      "metadata": {
        "colab": {
          "base_uri": "https://localhost:8080/"
        },
        "id": "aZL1wdFTisNv",
        "outputId": "afac6fad-58ab-4f11-ba2c-eb409b366ef4"
      },
      "id": "aZL1wdFTisNv",
      "execution_count": 7,
      "outputs": [
        {
          "output_type": "stream",
          "name": "stderr",
          "text": [
            "scraping抓取评论: 100%|██████████| 20000/20000 [08:07<00:00, 41.02it/s]"
          ]
        },
        {
          "output_type": "stream",
          "name": "stdout",
          "text": [
            "成功获取了 20000 条评论。\n"
          ]
        },
        {
          "output_type": "stream",
          "name": "stderr",
          "text": [
            "\n"
          ]
        }
      ]
    },
    {
      "cell_type": "code",
      "source": [
        "# Display the first few reviews\n",
        "print(\"\\nSample reviews:\")\n",
        "for i, (_, review) in enumerate(reviews_df.head(10).iterrows()):\n",
        "    print(f\"{i+1}. Rating: {review['score']} - {review['content']}\")\n"
      ],
      "metadata": {
        "colab": {
          "base_uri": "https://localhost:8080/"
        },
        "id": "3dfWNEYreoj7",
        "outputId": "54d7c095-6ef7-463f-99d8-125722c98b55"
      },
      "id": "3dfWNEYreoj7",
      "execution_count": 8,
      "outputs": [
        {
          "output_type": "stream",
          "name": "stdout",
          "text": [
            "\n",
            "Sample reviews:\n",
            "1. Rating: 4 - good\n",
            "2. Rating: 1 - Just pathetic. had to ask for one thing 10 times and still didn't get the results! Deleted immediately after downloading it.\n",
            "3. Rating: 5 - extremely helpful\n",
            "4. Rating: 4 - thiss good\n",
            "5. Rating: 5 - It's Amazing 🤩🤩\n",
            "6. Rating: 4 - Best app\n",
            "7. Rating: 5 - love\n",
            "8. Rating: 5 - exceptionally good\n",
            "9. Rating: 5 - best happy\n",
            "10. Rating: 5 - great and helpful\n"
          ]
        }
      ]
    },
    {
      "cell_type": "code",
      "source": [
        "# Display basic information\n",
        "print(f\"Successfully collected {len(reviews_df)} reviews\")\n",
        "print(\"\\nRating distribution:\")\n",
        "print(reviews_df['score'].value_counts().sort_index())"
      ],
      "metadata": {
        "colab": {
          "base_uri": "https://localhost:8080/"
        },
        "id": "PttBSkVieyC_",
        "outputId": "98f388b5-b1ac-41f7-8080-07216e066a2d"
      },
      "id": "PttBSkVieyC_",
      "execution_count": 9,
      "outputs": [
        {
          "output_type": "stream",
          "name": "stdout",
          "text": [
            "Successfully collected 20000 reviews\n",
            "\n",
            "Rating distribution:\n",
            "score\n",
            "1     1575\n",
            "2      419\n",
            "3      894\n",
            "4     1928\n",
            "5    15184\n",
            "Name: count, dtype: int64\n"
          ]
        }
      ]
    },
    {
      "cell_type": "code",
      "source": [
        "# Save to CSV\n",
        "reviews_df.to_csv('chatgpt_reviews.csv', index=False)\n",
        "print(f\"\\nReviews saved to 'chatgpt_reviews.csv'\")"
      ],
      "metadata": {
        "colab": {
          "base_uri": "https://localhost:8080/"
        },
        "id": "GyY5hFI5e0Y-",
        "outputId": "74cebd73-e59f-44d1-da67-065434e87501"
      },
      "id": "GyY5hFI5e0Y-",
      "execution_count": 10,
      "outputs": [
        {
          "output_type": "stream",
          "name": "stdout",
          "text": [
            "\n",
            "Reviews saved to 'chatgpt_reviews.csv'\n"
          ]
        }
      ]
    },
    {
      "cell_type": "code",
      "source": [],
      "metadata": {
        "id": "j3XKmXWAGOEw"
      },
      "id": "j3XKmXWAGOEw",
      "execution_count": 10,
      "outputs": []
    }
  ],
  "metadata": {
    "kernelspec": {
      "display_name": "Python 3 (ipykernel)",
      "language": "python",
      "name": "python3"
    },
    "language_info": {
      "codemirror_mode": {
        "name": "ipython",
        "version": 3
      },
      "file_extension": ".py",
      "mimetype": "text/x-python",
      "name": "python",
      "nbconvert_exporter": "python",
      "pygments_lexer": "ipython3",
      "version": "3.13.7"
    },
    "colab": {
      "provenance": [],
      "include_colab_link": true
    }
  },
  "nbformat": 4,
  "nbformat_minor": 5
}